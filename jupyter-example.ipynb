{
 "cells": [
  {
   "cell_type": "code",
   "execution_count": 1,
   "metadata": {},
   "outputs": [],
   "source": [
    "from gomoku import GomokuEngine"
   ]
  },
  {
   "cell_type": "code",
   "execution_count": 2,
   "metadata": {},
   "outputs": [],
   "source": [
    "game_engine = GomokuEngine()"
   ]
  },
  {
   "cell_type": "code",
   "execution_count": 3,
   "metadata": {},
   "outputs": [
    {
     "name": "stdout",
     "output_type": "stream",
     "text": [
      "\u001b[37m0-0   \u001b[37m0-1   \u001b[37m0-2   \u001b[37m0-3   \u001b[37m0-4   \u001b[37m0-5   \u001b[37m0-6   \u001b[37m0-7   \u001b[37m0-8   \u001b[37m0-9   \u001b[37m0-10   \u001b[37m0-11   \u001b[37m0-12   \u001b[37m0-13   \u001b[37m0-14\n",
      "\u001b[37m1-0   \u001b[37m1-1   \u001b[37m1-2   \u001b[37m1-3   \u001b[37m1-4   \u001b[37m1-5   \u001b[37m1-6   \u001b[37m1-7   \u001b[37m1-8   \u001b[37m1-9   \u001b[37m1-10   \u001b[37m1-11     \u001b[39mO    \u001b[37m1-13   \u001b[37m1-14\n",
      "\u001b[37m2-0   \u001b[37m2-1   \u001b[37m2-2   \u001b[37m2-3   \u001b[37m2-4   \u001b[37m2-5   \u001b[37m2-6    \u001b[39mX     \u001b[39mO     \u001b[39mO      \u001b[39mO      \u001b[39mO      \u001b[39mX    \u001b[37m2-13   \u001b[37m2-14\n",
      "\u001b[37m3-0   \u001b[37m3-1   \u001b[37m3-2   \u001b[37m3-3   \u001b[37m3-4   \u001b[37m3-5   \u001b[37m3-6   \u001b[37m3-7    \u001b[39mX     \u001b[39mX      \u001b[39mO    \u001b[37m3-11   \u001b[37m3-12   \u001b[37m3-13   \u001b[37m3-14\n",
      "\u001b[37m4-0   \u001b[37m4-1   \u001b[37m4-2   \u001b[37m4-3   \u001b[37m4-4   \u001b[37m4-5    \u001b[39mX     \u001b[39mO     \u001b[39mO     \u001b[39mO      \u001b[39mO      \u001b[39mX    \u001b[37m4-12   \u001b[37m4-13   \u001b[37m4-14\n",
      "\u001b[37m5-0   \u001b[37m5-1   \u001b[37m5-2   \u001b[37m5-3   \u001b[37m5-4   \u001b[37m5-5   \u001b[37m5-6    \u001b[39mX     \u001b[39mO     \u001b[39mX      \u001b[39mX      \u001b[39mO    \u001b[37m5-12   \u001b[37m5-13   \u001b[37m5-14\n",
      "\u001b[37m6-0   \u001b[37m6-1   \u001b[37m6-2   \u001b[37m6-3   \u001b[37m6-4   \u001b[37m6-5    \u001b[39mO     \u001b[39mX     \u001b[39mO     \u001b[39mX      \u001b[39mX    \u001b[37m6-11   \u001b[37m6-12   \u001b[37m6-13   \u001b[37m6-14\n",
      "\u001b[37m7-0   \u001b[37m7-1   \u001b[37m7-2   \u001b[37m7-3   \u001b[37m7-4   \u001b[37m7-5    \u001b[39mX     \u001b[39mX     \u001b[39mO    \u001b[37m7-9   \u001b[37m7-10   \u001b[37m7-11   \u001b[37m7-12   \u001b[37m7-13   \u001b[37m7-14\n",
      "\u001b[37m8-0   \u001b[37m8-1   \u001b[37m8-2   \u001b[37m8-3   \u001b[37m8-4   \u001b[37m8-5   \u001b[37m8-6    \u001b[39mO     \u001b[39mX    \u001b[37m8-9   \u001b[37m8-10   \u001b[37m8-11   \u001b[37m8-12   \u001b[37m8-13   \u001b[37m8-14\n",
      "\u001b[37m9-0   \u001b[37m9-1   \u001b[37m9-2   \u001b[37m9-3   \u001b[37m9-4   \u001b[37m9-5   \u001b[37m9-6   \u001b[37m9-7    \u001b[39mX     \u001b[39mX    \u001b[37m9-10   \u001b[37m9-11   \u001b[37m9-12   \u001b[37m9-13   \u001b[37m9-14\n",
      "\u001b[37m10-0  \u001b[37m10-1  \u001b[37m10-2  \u001b[37m10-3  \u001b[37m10-4  \u001b[37m10-5  \u001b[37m10-6  \u001b[37m10-7  \u001b[37m10-8  \u001b[37m10-9    \u001b[39mO    \u001b[37m10-11  \u001b[37m10-12  \u001b[37m10-13  \u001b[37m10-14\n",
      "\u001b[37m11-0  \u001b[37m11-1  \u001b[37m11-2  \u001b[37m11-3  \u001b[37m11-4  \u001b[37m11-5  \u001b[37m11-6  \u001b[37m11-7  \u001b[37m11-8  \u001b[37m11-9  \u001b[37m11-10  \u001b[37m11-11  \u001b[37m11-12  \u001b[37m11-13  \u001b[37m11-14\n",
      "\u001b[37m12-0  \u001b[37m12-1  \u001b[37m12-2  \u001b[37m12-3  \u001b[37m12-4  \u001b[37m12-5  \u001b[37m12-6  \u001b[37m12-7  \u001b[37m12-8  \u001b[37m12-9  \u001b[37m12-10  \u001b[37m12-11  \u001b[37m12-12  \u001b[37m12-13  \u001b[37m12-14\n",
      "\u001b[37m13-0  \u001b[37m13-1  \u001b[37m13-2  \u001b[37m13-3  \u001b[37m13-4  \u001b[37m13-5  \u001b[37m13-6  \u001b[37m13-7  \u001b[37m13-8  \u001b[37m13-9  \u001b[37m13-10  \u001b[37m13-11  \u001b[37m13-12  \u001b[37m13-13  \u001b[37m13-14\n",
      "\u001b[37m14-0  \u001b[37m14-1  \u001b[37m14-2  \u001b[37m14-3  \u001b[37m14-4  \u001b[37m14-5  \u001b[37m14-6  \u001b[37m14-7  \u001b[37m14-8  \u001b[37m14-9  \u001b[37m14-10  \u001b[37m14-11  \u001b[37m14-12  \u001b[37m14-13  \u001b[37m14-14\n",
      "AI WINS, GAME OVER\n"
     ]
    }
   ],
   "source": [
    "game_engine.play_ipynb()"
   ]
  },
  {
   "cell_type": "code",
   "execution_count": null,
   "metadata": {},
   "outputs": [],
   "source": []
  }
 ],
 "metadata": {
  "kernelspec": {
   "display_name": "Python 3",
   "language": "python",
   "name": "python3"
  },
  "language_info": {
   "codemirror_mode": {
    "name": "ipython",
    "version": 3
   },
   "file_extension": ".py",
   "mimetype": "text/x-python",
   "name": "python",
   "nbconvert_exporter": "python",
   "pygments_lexer": "ipython3",
   "version": "3.7.6"
  }
 },
 "nbformat": 4,
 "nbformat_minor": 4
}
